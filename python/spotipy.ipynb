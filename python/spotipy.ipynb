{
 "cells": [
  {
   "cell_type": "code",
   "execution_count": 15,
   "metadata": {},
   "outputs": [
    {
     "name": "stdout",
     "output_type": "stream",
     "text": [
      "Requirement already satisfied: spotipy in /opt/conda/lib/python3.8/site-packages (2.17.1)\n",
      "Requirement already satisfied: requests>=2.25.0 in /opt/conda/lib/python3.8/site-packages (from spotipy) (2.25.1)\n",
      "Requirement already satisfied: urllib3>=1.26.0 in /opt/conda/lib/python3.8/site-packages (from spotipy) (1.26.4)\n",
      "Requirement already satisfied: six>=1.15.0 in /opt/conda/lib/python3.8/site-packages (from spotipy) (1.15.0)\n",
      "Requirement already satisfied: idna<3,>=2.5 in /opt/conda/lib/python3.8/site-packages (from requests>=2.25.0->spotipy) (2.10)\n",
      "Requirement already satisfied: chardet<5,>=3.0.2 in /opt/conda/lib/python3.8/site-packages (from requests>=2.25.0->spotipy) (3.0.4)\n",
      "Requirement already satisfied: certifi>=2017.4.17 in /opt/conda/lib/python3.8/site-packages (from requests>=2.25.0->spotipy) (2020.6.20)\n",
      "Requirement already satisfied: python-dotenv in /opt/conda/lib/python3.8/site-packages (0.15.0)\n"
     ]
    },
    {
     "data": {
      "text/plain": [
       "True"
      ]
     },
     "execution_count": 15,
     "metadata": {},
     "output_type": "execute_result"
    }
   ],
   "source": [
    "!pip install spotipy\n",
    "!pip install python-dotenv\n",
    "\n",
    "from pathlib import Path\n",
    "from dotenv import load_dotenv\n",
    "\n",
    "load_dotenv(dotenv_path=Path('../.env'))"
   ]
  },
  {
   "cell_type": "code",
   "execution_count": 3,
   "metadata": {},
   "outputs": [],
   "source": [
    "import spotipy\n",
    "from spotipy.oauth2 import SpotifyClientCredentials\n",
    "# spotify credentials for the application:\n",
    "# \"Related Artist Network Visualizer\"\n",
    "client_id = os.getenv('SPOTIFY_CLIENT_ID')\n",
    "client_secret = 'f268f13219af4bf5b448ee8d07121e14'\n",
    "# create a credential manager and api layer\n",
    "client_credentials_manager = SpotifyClientCredentials(client_id=client_id, client_secret=client_secret)\n",
    "sp = spotipy.Spotify(client_credentials_manager=client_credentials_manager)"
   ]
  },
  {
   "cell_type": "code",
   "execution_count": 10,
   "metadata": {},
   "outputs": [],
   "source": [
    "# the spotify id for the artist Bassnectar\n",
    "bassnectar = '1JPy5PsJtkhftfdr6saN2i'"
   ]
  },
  {
   "cell_type": "code",
   "execution_count": 11,
   "metadata": {},
   "outputs": [],
   "source": [
    "name = sp.artist(bassnectar)"
   ]
  },
  {
   "cell_type": "code",
   "execution_count": 12,
   "metadata": {},
   "outputs": [
    {
     "data": {
      "text/plain": [
       "{'external_urls': {'spotify': 'https://open.spotify.com/artist/1JPy5PsJtkhftfdr6saN2i'},\n",
       " 'followers': {'href': None, 'total': 583275},\n",
       " 'genres': ['breakbeat',\n",
       "  'brostep',\n",
       "  'edm',\n",
       "  'electro house',\n",
       "  'electronic trap',\n",
       "  'glitch hop'],\n",
       " 'href': 'https://api.spotify.com/v1/artists/1JPy5PsJtkhftfdr6saN2i',\n",
       " 'id': '1JPy5PsJtkhftfdr6saN2i',\n",
       " 'images': [{'height': 640,\n",
       "   'url': 'https://i.scdn.co/image/5c3031087d35a465f8046cb7e94e80a30b23cb19',\n",
       "   'width': 640},\n",
       "  {'height': 320,\n",
       "   'url': 'https://i.scdn.co/image/3f96dfc0f40f4142307445186db5669070d94a46',\n",
       "   'width': 320},\n",
       "  {'height': 160,\n",
       "   'url': 'https://i.scdn.co/image/8ef055e1595a073806b1a91e96a6c1d73cf835a6',\n",
       "   'width': 160}],\n",
       " 'name': 'Bassnectar',\n",
       " 'popularity': 63,\n",
       " 'type': 'artist',\n",
       " 'uri': 'spotify:artist:1JPy5PsJtkhftfdr6saN2i'}"
      ]
     },
     "execution_count": 12,
     "metadata": {},
     "output_type": "execute_result"
    }
   ],
   "source": [
    "name"
   ]
  },
  {
   "cell_type": "code",
   "execution_count": null,
   "metadata": {},
   "outputs": [],
   "source": []
  }
 ],
 "metadata": {
  "kernelspec": {
   "display_name": "Python 3",
   "language": "python",
   "name": "python3"
  },
  "language_info": {
   "codemirror_mode": {
    "name": "ipython",
    "version": 3
   },
   "file_extension": ".py",
   "mimetype": "text/x-python",
   "name": "python",
   "nbconvert_exporter": "python",
   "pygments_lexer": "ipython3",
   "version": "3.8.5"
  }
 },
 "nbformat": 4,
 "nbformat_minor": 4
}
