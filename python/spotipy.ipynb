{
 "cells": [
  {
   "cell_type": "code",
   "execution_count": 1,
   "metadata": {
    "collapsed": true,
    "jupyter": {
     "outputs_hidden": true
    }
   },
   "outputs": [
    {
     "name": "stdout",
     "output_type": "stream",
     "text": [
      "Requirement already satisfied: spotipy in /opt/conda/lib/python3.8/site-packages (2.17.1)\n",
      "Requirement already satisfied: requests>=2.25.0 in /opt/conda/lib/python3.8/site-packages (from spotipy) (2.25.1)\n",
      "Requirement already satisfied: urllib3>=1.26.0 in /opt/conda/lib/python3.8/site-packages (from spotipy) (1.26.4)\n",
      "Requirement already satisfied: six>=1.15.0 in /opt/conda/lib/python3.8/site-packages (from spotipy) (1.15.0)\n",
      "Requirement already satisfied: chardet<5,>=3.0.2 in /opt/conda/lib/python3.8/site-packages (from requests>=2.25.0->spotipy) (3.0.4)\n",
      "Requirement already satisfied: idna<3,>=2.5 in /opt/conda/lib/python3.8/site-packages (from requests>=2.25.0->spotipy) (2.10)\n",
      "Requirement already satisfied: certifi>=2017.4.17 in /opt/conda/lib/python3.8/site-packages (from requests>=2.25.0->spotipy) (2020.6.20)\n",
      "Requirement already satisfied: python-dotenv in /opt/conda/lib/python3.8/site-packages (0.15.0)\n"
     ]
    },
    {
     "data": {
      "text/plain": [
       "True"
      ]
     },
     "execution_count": 1,
     "metadata": {},
     "output_type": "execute_result"
    }
   ],
   "source": [
    "!pip install spotipy\n",
    "!pip install python-dotenv\n",
    "\n",
    "from pathlib import Path\n",
    "from dotenv import load_dotenv\n",
    "import os\n",
    "\n",
    "load_dotenv(dotenv_path=Path('../.env'))"
   ]
  },
  {
   "cell_type": "code",
   "execution_count": 2,
   "metadata": {},
   "outputs": [],
   "source": [
    "import spotipy\n",
    "from spotipy.oauth2 import SpotifyClientCredentials\n",
    "# spotify credentials for the application:\n",
    "# \"Related Artist Network Visualizer\"\n",
    "client_id = os.getenv('SPOTIFY_CLIENT_ID')\n",
    "client_secret = os.getenv('SPOTIFY_CLIENT_SECRET')\n",
    "# create a credential manager and api layer\n",
    "client_credentials_manager = SpotifyClientCredentials(client_id=client_id, client_secret=client_secret)\n",
    "sp = spotipy.Spotify(client_credentials_manager=client_credentials_manager)"
   ]
  },
  {
   "cell_type": "markdown",
   "metadata": {},
   "source": [
    "## 1. Generación de la red."
   ]
  },
  {
   "cell_type": "markdown",
   "metadata": {},
   "source": [
    "### Para ello, deberemos empezar por un artista. En este caso empezaremos por J Hook, mi nombre de artista en spotify."
   ]
  },
  {
   "cell_type": "code",
   "execution_count": 3,
   "metadata": {},
   "outputs": [],
   "source": [
    "artist_name = \"Bad Bunny\"\n",
    "\n",
    "results = sp.search(q='artist:' + artist_name, type='artist')"
   ]
  },
  {
   "cell_type": "code",
   "execution_count": 4,
   "metadata": {},
   "outputs": [],
   "source": [
    "starting_id = results['artists']['items'][0]['id']"
   ]
  },
  {
   "cell_type": "code",
   "execution_count": 7,
   "metadata": {},
   "outputs": [
    {
     "data": {
      "text/plain": [
       "{'external_urls': {'spotify': 'https://open.spotify.com/artist/4q3ewBCX7sLwd24euuV69X'},\n",
       " 'followers': {'href': None, 'total': 31368367},\n",
       " 'genres': ['latin', 'reggaeton', 'trap latino'],\n",
       " 'href': 'https://api.spotify.com/v1/artists/4q3ewBCX7sLwd24euuV69X',\n",
       " 'id': '4q3ewBCX7sLwd24euuV69X',\n",
       " 'images': [{'height': 640,\n",
       "   'url': 'https://i.scdn.co/image/1c66d291db8ab21ac32d045ef28199fb195b97cf',\n",
       "   'width': 640},\n",
       "  {'height': 320,\n",
       "   'url': 'https://i.scdn.co/image/e515d8a5f2a1ec78be486fc51767589ba9790844',\n",
       "   'width': 320},\n",
       "  {'height': 160,\n",
       "   'url': 'https://i.scdn.co/image/e64b26e7d388070788f47254c5a439b41b5a76f4',\n",
       "   'width': 160}],\n",
       " 'name': 'Bad Bunny',\n",
       " 'popularity': 99,\n",
       " 'type': 'artist',\n",
       " 'uri': 'spotify:artist:4q3ewBCX7sLwd24euuV69X'}"
      ]
     },
     "execution_count": 7,
     "metadata": {},
     "output_type": "execute_result"
    }
   ],
   "source": [
    "data = sp.artist(starting_id)\n",
    "\n",
    "data"
   ]
  },
  {
   "cell_type": "code",
   "execution_count": 10,
   "metadata": {},
   "outputs": [
    {
     "data": {
      "text/plain": [
       "'Bad Bunny'"
      ]
     },
     "execution_count": 10,
     "metadata": {},
     "output_type": "execute_result"
    }
   ],
   "source": [
    "name = data['name']\n",
    "name"
   ]
  },
  {
   "cell_type": "markdown",
   "metadata": {},
   "source": [
    "### Definimos las funciones que, recursivamente (en profundidad), generarán la red de artistas navegando por la API de Spotify."
   ]
  },
  {
   "cell_type": "code",
   "execution_count": 36,
   "metadata": {},
   "outputs": [],
   "source": [
    "def related_network(artist_id, depth=3):\n",
    "    \n",
    "    graph = dict()\n",
    "    related_network_recursive(artist_id, depth, graph)\n",
    "    return graph\n",
    "\n",
    "def related_network_recursive(artist_id, depth, graph):\n",
    "    if depth == 0:\n",
    "        return\n",
    "    name = sp.artist(artist_id)['name']\n",
    "    like_artist = sp.artist_related_artists(artist_id)\n",
    "    graph[name] = [related['name'] for related in like_artist['artists']]\n",
    "    [related_network_recursive(related['id'], depth - 1, graph) for related in like_artist['artists']]"
   ]
  },
  {
   "cell_type": "code",
   "execution_count": 37,
   "metadata": {},
   "outputs": [
    {
     "data": {
      "text/plain": [
       "{'Bad Bunny': ['Lunay',\n",
       "  'Nio Garcia',\n",
       "  'Mau y Ricky',\n",
       "  'Anuel AA',\n",
       "  'KAROL G',\n",
       "  'Chris Jedi',\n",
       "  'Ozuna',\n",
       "  'Brytiago',\n",
       "  'Bryant Myers',\n",
       "  'Rauw Alejandro',\n",
       "  'Myke Towers',\n",
       "  'Tainy',\n",
       "  'Rvssian',\n",
       "  'Miky Woodz',\n",
       "  'Lary Over',\n",
       "  'Danny Ocean',\n",
       "  'Alex Rose',\n",
       "  'Jon Z',\n",
       "  'Kevin Roldan',\n",
       "  'El Alfa']}"
      ]
     },
     "execution_count": 37,
     "metadata": {},
     "output_type": "execute_result"
    }
   ],
   "source": [
    "# comprobamos a profundidad 1\n",
    "related_network(starting_id, 1)"
   ]
  },
  {
   "cell_type": "markdown",
   "metadata": {},
   "source": [
    "#### Generamos la red. Esta celda tardará mucho tiempo, no solo porque hay muchos artistas que extraer, sino porque necesitamos que cada llamada a la API no se haga de inmediato, lo que provocaría que nos baneen durante unos segundos."
   ]
  },
  {
   "cell_type": "code",
   "execution_count": 38,
   "metadata": {},
   "outputs": [],
   "source": [
    "# tomamos la red\n",
    "depth = 2\n",
    "network_artist = related_network(starting_id, depth)"
   ]
  },
  {
   "cell_type": "markdown",
   "metadata": {},
   "source": [
    "#### Guardamos la red para evitar tener que repetir el proceso"
   ]
  },
  {
   "cell_type": "code",
   "execution_count": 39,
   "metadata": {},
   "outputs": [],
   "source": [
    "import json\n",
    "name = name.lower().replace(\" \", \"_\")\n",
    "with open('{}_{}.json'.format(name, depth), 'w') as file:\n",
    "    json.dump(network_artist, file)"
   ]
  },
  {
   "cell_type": "markdown",
   "metadata": {},
   "source": [
    "## 2. Análisis de la red"
   ]
  },
  {
   "cell_type": "markdown",
   "metadata": {},
   "source": [
    "Llegados a este punto, tenemos lista la red para analizarla. Utilizaremos la librería networkx."
   ]
  },
  {
   "cell_type": "code",
   "execution_count": 40,
   "metadata": {},
   "outputs": [],
   "source": [
    "import networkx as nx\n",
    "import numpy as np\n",
    "import pandas as pd"
   ]
  },
  {
   "cell_type": "code",
   "execution_count": 41,
   "metadata": {},
   "outputs": [],
   "source": [
    "import json\n",
    "with open('bad_bunny_2.json', 'r') as file:\n",
    "    network_artist = json.load(file)"
   ]
  },
  {
   "cell_type": "code",
   "execution_count": 42,
   "metadata": {},
   "outputs": [
    {
     "data": {
      "text/plain": [
       "21"
      ]
     },
     "execution_count": 42,
     "metadata": {},
     "output_type": "execute_result"
    }
   ],
   "source": [
    "len(network_artist.keys())"
   ]
  },
  {
   "cell_type": "code",
   "execution_count": 19,
   "metadata": {
    "collapsed": true,
    "jupyter": {
     "outputs_hidden": true
    }
   },
   "outputs": [
    {
     "data": {
      "text/plain": [
       "['Lunay',\n",
       " 'Nio Garcia',\n",
       " 'Mau y Ricky',\n",
       " 'Anuel AA',\n",
       " 'KAROL G',\n",
       " 'Chris Jedi',\n",
       " 'Ozuna',\n",
       " 'Brytiago',\n",
       " 'Bryant Myers',\n",
       " 'Rauw Alejandro',\n",
       " 'Myke Towers',\n",
       " 'Tainy',\n",
       " 'Rvssian',\n",
       " 'Miky Woodz',\n",
       " 'Lary Over',\n",
       " 'Danny Ocean',\n",
       " 'Alex Rose',\n",
       " 'Jon Z',\n",
       " 'Kevin Roldan',\n",
       " 'El Alfa']"
      ]
     },
     "execution_count": 19,
     "metadata": {},
     "output_type": "execute_result"
    }
   ],
   "source": [
    "network_artist['Bad Bunny']"
   ]
  },
  {
   "cell_type": "markdown",
   "metadata": {},
   "source": [
    "Con la función ```edges``` generamos una lista de pares que define las aristas de nuestro grafo."
   ]
  },
  {
   "cell_type": "code",
   "execution_count": 28,
   "metadata": {},
   "outputs": [],
   "source": [
    "def edges(graph):\n",
    "    '''Iterate through the dictionary. \n",
    "    For each artist, extend their related artists to create a row for each one.'''\n",
    "    \n",
    "    edges = []\n",
    "    \n",
    "    [edges.extend(list(zip(np.repeat(artist, len(related_list)), related_list))) \n",
    "     for artist, related_list in graph.items()]\n",
    "    \n",
    "    return edges"
   ]
  },
  {
   "cell_type": "code",
   "execution_count": 29,
   "metadata": {},
   "outputs": [],
   "source": [
    "edges_net = edges(network_artist)"
   ]
  },
  {
   "cell_type": "code",
   "execution_count": 30,
   "metadata": {},
   "outputs": [
    {
     "data": {
      "text/plain": [
       "[('Lunay', 'Jory Boy'),\n",
       " ('Lunay', 'Kevin Roldan'),\n",
       " ('Lunay', 'Anuel AA'),\n",
       " ('Lunay', 'Casper Magico'),\n",
       " ('Lunay', 'Amenazzy'),\n",
       " ('Lunay', 'Tainy'),\n",
       " ('Lunay', 'Noriel'),\n",
       " ('Lunay', 'Alex Rose'),\n",
       " ('Lunay', 'Mau y Ricky'),\n",
       " ('Lunay', 'Jhay Cortez'),\n",
       " ('Nio Garcia', 'Rvssian'),\n",
       " ('Nio Garcia', 'Lunay'),\n",
       " ('Nio Garcia', 'Brytiago'),\n",
       " ('Nio Garcia', 'Chris Jedi'),\n",
       " ('Nio Garcia', 'Lary Over'),\n",
       " ('Nio Garcia', 'Bryant Myers'),\n",
       " ('Nio Garcia', 'Lalo Ebratt'),\n",
       " ('Nio Garcia', 'Myke Towers'),\n",
       " ('Nio Garcia', 'DJ Luian'),\n",
       " ('Nio Garcia', 'Noriel')]"
      ]
     },
     "execution_count": 30,
     "metadata": {},
     "output_type": "execute_result"
    }
   ],
   "source": [
    "edges_net[30:50]"
   ]
  },
  {
   "cell_type": "markdown",
   "metadata": {},
   "source": [
    "#### Creamos el grafo utilizando la librería networkx"
   ]
  },
  {
   "cell_type": "code",
   "execution_count": 31,
   "metadata": {},
   "outputs": [],
   "source": [
    "G = nx.Graph()"
   ]
  },
  {
   "cell_type": "code",
   "execution_count": 32,
   "metadata": {},
   "outputs": [],
   "source": [
    "G.add_edges_from(edges_net)"
   ]
  },
  {
   "cell_type": "code",
   "execution_count": 33,
   "metadata": {},
   "outputs": [
    {
     "name": "stdout",
     "output_type": "stream",
     "text": [
      "Name: \n",
      "Type: Graph\n",
      "Number of nodes: 73\n",
      "Number of edges: 346\n",
      "Average degree:   9.4795\n"
     ]
    }
   ],
   "source": [
    "print(nx.info(G))"
   ]
  },
  {
   "cell_type": "code",
   "execution_count": 34,
   "metadata": {},
   "outputs": [
    {
     "name": "stdout",
     "output_type": "stream",
     "text": [
      "Network density: 0.13165905631659056\n"
     ]
    }
   ],
   "source": [
    "density = nx.density(G)\n",
    "print(\"Network density:\", density)"
   ]
  },
  {
   "cell_type": "code",
   "execution_count": null,
   "metadata": {},
   "outputs": [],
   "source": []
  }
 ],
 "metadata": {
  "kernelspec": {
   "display_name": "Python 3",
   "language": "python",
   "name": "python3"
  },
  "language_info": {
   "codemirror_mode": {
    "name": "ipython",
    "version": 3
   },
   "file_extension": ".py",
   "mimetype": "text/x-python",
   "name": "python",
   "nbconvert_exporter": "python",
   "pygments_lexer": "ipython3",
   "version": "3.8.5"
  }
 },
 "nbformat": 4,
 "nbformat_minor": 4
}
